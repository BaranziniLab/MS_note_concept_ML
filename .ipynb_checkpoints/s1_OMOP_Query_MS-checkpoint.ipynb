{
 "cells": [
  {
   "cell_type": "markdown",
   "id": "9d95ef3b-aa20-4ff7-b8bf-104b2048a067",
   "metadata": {},
   "source": [
    "# Obtaining MS Patients and All Note Encounters"
   ]
  },
  {
   "cell_type": "code",
   "execution_count": null,
   "id": "efe9afc8-96f9-47d2-a09d-b242ce081a01",
   "metadata": {},
   "outputs": [],
   "source": [
    "import duckdb\n",
    "import pandas as pd\n",
    "import numpy as np\n",
    "import json\n",
    "\n",
    "import ipywidgets as widgets\n",
    "from IPython.display import display, Markdown\n",
    "\n",
    "# timeoutput\n",
    "import datetime\n",
    "\n",
    "# regex\n",
    "import re\n",
    "\n",
    "# plots\n",
    "import matplotlib.pyplot as plt"
   ]
  },
  {
   "cell_type": "code",
   "execution_count": null,
   "id": "1e97ba73-bfe9-415c-8ac3-287de97db176",
   "metadata": {},
   "outputs": [],
   "source": [
    "#! change the base_path to the IC data location in Wynton\n",
    "\n",
    "\n",
    "# Functions for easy pulling of CDW data\n",
    "\n",
    "def file_path_parquet(filename, datatype):\n",
    "    base_path = f\"path/to/ic/data/{datatype}/\"\n",
    "    parquet_wild = \"/*.parquet\"\n",
    "    return f\"{base_path}{filename}{parquet_wild}\"\n",
    "\n",
    "def rtime():\n",
    "    # Get the current datetime\n",
    "    current_datetime = datetime.datetime.now()\n",
    "    # Define a mapping of days of the week to colors\n",
    "    day_color_mapping = {\n",
    "        0: 'red',       # Monday\n",
    "        1: 'orange',    # Tuesday\n",
    "        2: 'green',     # Wednesday\n",
    "        3: 'blue',      # Thursday\n",
    "        4: 'purple',    # Friday\n",
    "        5: 'brown',     # Saturday\n",
    "        6: 'gray',      # Sunday\n",
    "    }\n",
    "\n",
    "    # Get the day of the week (0=Monday, 1=Tuesday, ..., 6=Sunday)\n",
    "    day_of_week = current_datetime.weekday()\n",
    "    # Get the color based on the day of the week\n",
    "    text_color = day_color_mapping.get(day_of_week, 'black')  # Default to black if the day is not found in the mapping\n",
    "    # Format the current datetime\n",
    "    formatted_datetime = current_datetime.strftime(\"%Y-%m-%d %H:%M:%S\")\n",
    "    # Generate the formatted output with the corresponding color\n",
    "    formatted_output = f\"\\n<b><span style='color:{text_color}'>Ran: {formatted_datetime}</span></b>\\n\"\n",
    "    # Display the formatted output using Markdown\n",
    "    display(Markdown(formatted_output))\n",
    "    \n",
    "rtime()"
   ]
  },
  {
   "cell_type": "code",
   "execution_count": null,
   "id": "7ca25d26-bca8-44a6-9fa5-20e60cd14814",
   "metadata": {},
   "outputs": [],
   "source": [
    "#! change the path to scratch and the username\n",
    "\n",
    "\n",
    "# wynton_username with your actual Wynton username\n",
    "username = 'name'\n",
    "\n",
    "# Spill data that doesn't fit into memory into Wynton Scratch storage (BeeGFS)\n",
    "# Increase up to 12 threads and 150 GB of memory to not overwhelm the system\n",
    "# Recommendation: ~12 GB of memory for each thread\n",
    "# reduce if there are other system limitations in place\n",
    "config_query = f\"\"\"\n",
    "    SET temp_directory = 'path/to/scratch/{username}/duckdb_dir';\n",
    "    SET preserve_insertion_order = false;\n",
    "    SET memory_limit = '150GB';\n",
    "    SET threads TO 12;\n",
    "\"\"\"\n",
    "\n",
    "# Create a connection with configurations\n",
    "con = duckdb.connect()\n",
    "con_info = con.execute(config_query)  # Apply configuration settings\n",
    "\n",
    "display(con_info)\n",
    "rtime()"
   ]
  },
  {
   "cell_type": "markdown",
   "id": "baa4bc9d-6111-4fd2-97c2-667654ee1012",
   "metadata": {
    "jp-MarkdownHeadingCollapsed": true,
    "tags": []
   },
   "source": [
    "# Data"
   ]
  },
  {
   "cell_type": "code",
   "execution_count": null,
   "id": "fb88a150-6951-4c11-a672-53b6540e35ca",
   "metadata": {},
   "outputs": [],
   "source": [
    "# list of MS OMOP diagnostic codes\n",
    "ms_list = [374919, 4178929, 4145049, 4137855, 37110514]\n",
    "\n",
    "bad_pats = ['-1', '*Unspecified']\n",
    "\n",
    "rtime()"
   ]
  },
  {
   "cell_type": "markdown",
   "id": "8451e294-bc11-4d8f-8149-268b2e897700",
   "metadata": {},
   "source": [
    "### OMOP"
   ]
  },
  {
   "cell_type": "code",
   "execution_count": null,
   "id": "f702371e-0945-432e-abbe-0c021ce73e8a",
   "metadata": {},
   "outputs": [],
   "source": [
    "# condition_occurrence\n",
    "condition_occurrence_ucsf = con.read_parquet(file_path_parquet('condition_occurrence', 'DEID_OMOP'))\n",
    "\n",
    "# person demographics\n",
    "person_ucsf = con.read_parquet(file_path_parquet('person', 'DEID_OMOP'))\n",
    "\n",
    "# person linkage OMOP - CDW\n",
    "person_extension_ucsf = con.read_parquet(file_path_parquet('person_extension', 'DEID_OMOP'))\n",
    "\n",
    "# visit_occurrence\n",
    "visit_occurrence_ucsf = con.read_parquet(file_path_parquet('visit_occurrence', 'DEID_OMOP'))\n",
    "\n",
    "# condition occurrence to link to CDW\n",
    "condition_occurrence_extension_ucsf = con.read_parquet(file_path_parquet('condition_occurrence_extension', 'DEID_OMOP'))\n",
    "\n",
    "\n",
    "rtime()"
   ]
  },
  {
   "cell_type": "markdown",
   "id": "6031a9a3-b047-4805-b23a-c3942c9e6e43",
   "metadata": {},
   "source": [
    "### CDW Data"
   ]
  },
  {
   "cell_type": "code",
   "execution_count": null,
   "id": "dd029c64-c31e-4ead-85a2-01802967f503",
   "metadata": {},
   "outputs": [],
   "source": [
    "# deid_note_key and negation terms\n",
    "note_concepts = con.read_parquet(file_path_parquet('note_concepts', 'DEID_CDW'))\n",
    "\n",
    "# linker to patientdurablekey, encoutnerkey, and deid_note_key\n",
    "note_metadata = con.read_parquet(file_path_parquet('note_metadata', 'DEID_CDW'))\n",
    "\n",
    "# note text - only deid_note_key and note_text\n",
    "note_text = con.read_parquet(file_path_parquet('note_text', 'DEID_CDW'))\n",
    "\n",
    "# diagnosis event fact\n",
    "diag_fact = con.read_parquet(file_path_parquet('diagnosiseventfact', 'DEID_CDW'))\n",
    "\n",
    "# patdurabledim\n",
    "patdurabledim = con.read_parquet(file_path_parquet('patdurabledim', 'DEID_CDW'))\n",
    "\n",
    "\n",
    "rtime()"
   ]
  },
  {
   "cell_type": "code",
   "execution_count": null,
   "id": "4d1522aa-d066-46bf-9c09-57540aa7b4f8",
   "metadata": {},
   "outputs": [],
   "source": [
    "# Query for a specific patient\n",
    "specific_query = \"\"\"\n",
    "SELECT person_id,\n",
    "    source_key_value\n",
    "FROM person_extension_ucsf\n",
    "WHERE person_id = 'KEY'\n",
    "\"\"\"\n",
    "con.query(specific_query)"
   ]
  },
  {
   "cell_type": "markdown",
   "id": "ff92965e-8528-4d1b-af4c-0501d9f4aebb",
   "metadata": {
    "jp-MarkdownHeadingCollapsed": true,
    "tags": []
   },
   "source": [
    "# Cohort"
   ]
  },
  {
   "cell_type": "markdown",
   "id": "337ba4f1-cf78-4322-91f0-bd03696f7c54",
   "metadata": {},
   "source": [
    "**MS patients -> with notes -> notes with N ctakes terms -> MS diagnosis limitations**"
   ]
  },
  {
   "cell_type": "markdown",
   "id": "13fc2254-f8dc-4e2b-adbb-42ca04fd58a2",
   "metadata": {},
   "source": [
    "### OMOP <-> CDW: patient table"
   ]
  },
  {
   "cell_type": "code",
   "execution_count": null,
   "id": "fadb3783-67f3-4e55-a9ea-5b24c2c12724",
   "metadata": {},
   "outputs": [],
   "source": [
    "# drop the existing table if exists\n",
    "con.query(\"DROP TABLE IF EXISTS patient_table\")\n",
    "\n",
    "# create the table\n",
    "query_create_table = f\"\"\"\n",
    "CREATE TABLE patient_table AS\n",
    "    SELECT\n",
    "        co.person_id,\n",
    "        p.person_source_value AS patientepicid,\n",
    "        pd.patientdurablekey\n",
    "    FROM condition_occurrence_ucsf co\n",
    "    JOIN person_ucsf p\n",
    "        ON co.person_id = p.person_id\n",
    "    JOIN patdurabledim pd\n",
    "        ON p.person_source_value = pd.patientepicid\n",
    "    WHERE p.person_source_value NOT IN {tuple(bad_pats)}\n",
    "        AND co.condition_concept_id IN {tuple(ms_list)}\n",
    "    GROUP BY co.person_id, p.person_source_value, pd.patientdurablekey\n",
    "    HAVING COUNT(DISTINCT co.visit_occurrence_id) >= 5\n",
    "\"\"\"\n",
    "\n",
    "con.query(query_create_table)\n",
    "\n",
    "# index the new table\n",
    "con.query(\"CREATE INDEX idx_person_id ON patient_table(person_id)\")\n",
    "con.query(\"CREATE INDEX idx_patientepicid ON patient_table(patientepicid)\")\n",
    "con.query(\"CREATE INDEX idx_patientdurablekey ON patient_table(patientdurablekey)\")\n",
    "\n",
    "rtime()"
   ]
  },
  {
   "cell_type": "markdown",
   "id": "99a7703e-49ad-4c38-ae0d-ce1147bef0c5",
   "metadata": {},
   "source": [
    "### OMOP <-> CDW: condition and encounter linker"
   ]
  },
  {
   "cell_type": "code",
   "execution_count": null,
   "id": "99483376-9450-43d0-80cb-b423a2e72171",
   "metadata": {},
   "outputs": [],
   "source": [
    "# drop the existing table if exists\n",
    "con.query(\"DROP TABLE IF EXISTS conlink_table\")\n",
    "\n",
    "# create the table\n",
    "query_create_table = f\"\"\"\n",
    "CREATE TABLE conlink_table AS\n",
    "    SELECT\n",
    "        pt.person_id,\n",
    "        pt.patientepicid,\n",
    "        co.condition_occurrence_id,\n",
    "        co.condition_concept_id,\n",
    "        exco.diagnosiseventkey\n",
    "    FROM condition_occurrence_ucsf co\n",
    "    JOIN patient_table pt\n",
    "        ON co.person_id = pt.person_id\n",
    "    JOIN (\n",
    "        SELECT condition_occurrence_id,\n",
    "            source_key_value AS diagnosiseventkey\n",
    "        FROM condition_occurrence_extension_ucsf\n",
    "        WHERE source_table_name = 'DiagnosisEventFact'\n",
    "    ) exco\n",
    "        ON exco.condition_occurrence_id = co.condition_occurrence_id\n",
    "    WHERE co.condition_concept_id IN {tuple(ms_list)}\n",
    "\"\"\"\n",
    "con.query(query_create_table)\n",
    "\n",
    "# index the new table\n",
    "# con.query(\"CREATE INDEX idx_person_id ON conlink_table(person_id)\")\n",
    "# con.query(\"CREATE INDEX idx_patientepicid ON conlink_table(patientepicid)\")\n",
    "# con.query(\"CREATE INDEX idx_patientdurablekey ON conlink_table(patientdurablekey)\")\n",
    "con.query(\"CREATE INDEX idx_diagnosiseventkey ON conlink_table(diagnosiseventkey)\")\n",
    "\n",
    "rtime()"
   ]
  },
  {
   "cell_type": "markdown",
   "id": "bab4436d-af76-41be-9143-e887567c2f89",
   "metadata": {},
   "source": [
    "### CDW: patient encounters"
   ]
  },
  {
   "cell_type": "code",
   "execution_count": null,
   "id": "150d9931-0246-498f-929c-2dd09c88c0a7",
   "metadata": {},
   "outputs": [],
   "source": [
    "con.query(\"DROP TABLE IF EXISTS enc_table\")\n",
    "\n",
    "# create the table\n",
    "query_enc_table = f\"\"\"\n",
    "CREATE TABLE enc_table AS\n",
    "    SELECT \n",
    "        co.person_id,\n",
    "        co.patientepicid,\n",
    "        enc.patientdurablekey,\n",
    "        co.condition_occurrence_id,\n",
    "        enc.encounterkey,\n",
    "        enc.startdatekeyvalue,\n",
    "        enc.diagnosisname\n",
    "    FROM conlink_table co\n",
    "    JOIN (\n",
    "        SELECT\n",
    "            pt.patientdurablekey,\n",
    "            df.diagnosiseventkey,\n",
    "            df.diagnosisname,\n",
    "            df.encounterkey,\n",
    "            df.startdatekeyvalue\n",
    "        FROM diag_fact df\n",
    "        JOIN patient_table pt\n",
    "            ON pt.patientdurablekey = df.patientdurablekey\n",
    "    ) AS enc\n",
    "        ON co.diagnosiseventkey = enc.diagnosiseventkey\n",
    "\"\"\"\n",
    "con.query(query_enc_table)\n",
    "\n",
    "# index the new table\n",
    "con.query(\"CREATE INDEX idx_person_id_2 ON enc_table(person_id)\")\n",
    "con.query(\"CREATE INDEX idx_patientepicid_2 ON enc_table(patientepicid)\")\n",
    "con.query(\"CREATE INDEX idx_patientdurablekey_2 ON enc_table(patientdurablekey)\")\n",
    "con.query(\"CREATE INDEX idx_encounterkey_2 ON enc_table(encounterkey)\")\n",
    "\n",
    "rtime()"
   ]
  },
  {
   "cell_type": "markdown",
   "id": "033e4418-6d67-4248-8a7b-705ea97db5e1",
   "metadata": {},
   "source": [
    "### Preexposue years and MS years"
   ]
  },
  {
   "cell_type": "code",
   "execution_count": null,
   "id": "429fd127-5cdb-41e3-8114-14c0f15c5efe",
   "metadata": {},
   "outputs": [],
   "source": [
    "query_msnote_dates = f\"\"\"\n",
    "WITH note_dates AS (\n",
    "    SELECT enc.patientepicid,\n",
    "        MIN(note.deid_service_date) AS ms_note_fdate,\n",
    "        MAX(note.deid_service_date) AS ms_note_ldate,\n",
    "        CAST(DATEDIFF('day', ms_note_fdate, ms_note_ldate) / 365.25 AS FLOAT) AS ms_note_years,\n",
    "        COUNT(DISTINCT(note.deid_note_key)) AS ms_note_count\n",
    "    FROM note_metadata note\n",
    "    JOIN enc_table enc ON enc.encounterkey = note.encounterkey\n",
    "    WHERE note.deid_service_date >= DATE '1930-01-01'\n",
    "        AND note.deid_service_date <= DATE '2027-01-01'\n",
    "    GROUP BY enc.patientepicid\n",
    ")\n",
    "SELECT enc.*,\n",
    "    note.ms_note_fdate,\n",
    "    note.ms_note_ldate,\n",
    "    note.ms_note_years,\n",
    "    note.ms_note_count,\n",
    "FROM note_dates note\n",
    "JOIN enc_table enc\n",
    "ON note.patientepicid = enc.patientepicid\n",
    "WHERE ms_note_years >= 1\n",
    "    AND ms_note_count >= 5\n",
    "\"\"\"\n",
    "note_result = con.query(query_msnote_dates)"
   ]
  },
  {
   "cell_type": "code",
   "execution_count": null,
   "id": "2275000d-d8bd-4d2a-a8c9-a22437583988",
   "metadata": {},
   "outputs": [],
   "source": [
    "query_msnote_people = f\"\"\"\n",
    "SELECT person_id,\n",
    "    patientepicid, \n",
    "    patientdurablekey,\n",
    "    MIN(ms_note_fdate) AS ms_note_fdate,\n",
    "    MIN(ms_note_ldate) AS ms_note_ldate,\n",
    "    MIN(ms_note_years) AS ms_note_years,\n",
    "    MIN(ms_note_count) AS ms_note_count,\n",
    "FROM note_result\n",
    "GROUP BY person_id, patientepicid, patientdurablekey,\n",
    "\"\"\"\n",
    "note_people_result = con.query(query_msnote_people)"
   ]
  },
  {
   "cell_type": "markdown",
   "id": "01089c3f-9f2a-482f-83d4-0ccf781637d3",
   "metadata": {
    "tags": []
   },
   "source": [
    "**Merge with all notes to get counts and statistics for these**"
   ]
  },
  {
   "cell_type": "code",
   "execution_count": null,
   "id": "f6428688-edf9-4723-903e-b801a622158f",
   "metadata": {},
   "outputs": [],
   "source": [
    "query_allnote_dates = f\"\"\"\n",
    "WITH note_dates AS (\n",
    "    SELECT pt.patientepicid,\n",
    "        MIN(note.deid_service_date) AS note_fdate,\n",
    "        MAX(note.deid_service_date) AS note_ldate,\n",
    "        CAST(DATEDIFF('day', note_fdate, note_ldate) / 365.25 AS FLOAT) AS note_years,\n",
    "        COUNT(DISTINCT(note.deid_note_key)) AS note_count,\n",
    "        COUNT(DISTINCT CASE \n",
    "            WHEN note.deid_service_date < npt.ms_note_fdate \n",
    "            THEN note.deid_note_key \n",
    "            END) AS preex_note_count\n",
    "    FROM note_metadata note\n",
    "    JOIN patient_table pt ON pt.patientepicid = note.patientepicid\n",
    "    JOIN note_people_result npt ON note.patientepicid = npt.patientepicid\n",
    "    WHERE note.deid_service_date >= DATE '1930-01-01'\n",
    "        AND note.deid_service_date <= DATE '2027-01-01'\n",
    "    GROUP BY pt.patientepicid\n",
    ")\n",
    "SELECT enc.*,\n",
    "    note.note_fdate,\n",
    "    note.note_ldate,\n",
    "    note.note_years,\n",
    "    note.note_count,\n",
    "    note.preex_note_count,\n",
    "    note.note_count - enc.ms_note_count AS non_ms_note_count,\n",
    "    CAST(DATEDIFF('day', note.note_fdate, enc.ms_note_fdate) / 365.25 AS FLOAT) AS preex_years\n",
    "FROM note_dates note\n",
    "JOIN note_people_result enc\n",
    "ON note.patientepicid = enc.patientepicid\n",
    "WHERE preex_years >= 1\n",
    "\"\"\"\n",
    "note_all_result = con.query(query_allnote_dates)"
   ]
  },
  {
   "cell_type": "markdown",
   "id": "7efec2e3-30a9-45a9-bae2-1870a7fbf8e5",
   "metadata": {},
   "source": [
    "Only this once and save the output."
   ]
  },
  {
   "cell_type": "code",
   "execution_count": null,
   "id": "5a0c1795-b0f1-463d-ac9a-8eed8b433db6",
   "metadata": {},
   "outputs": [],
   "source": [
    "# note_all_result_df = note_all_result.df()\n",
    "# note_all_result_df.to_csv(\"ms_cohort.csv\", index=False)\n",
    "# print(\"Number of patients:\", len(note_all_result_df))\n",
    "# rtime()"
   ]
  },
  {
   "cell_type": "markdown",
   "id": "f7ad1787-6f49-4dcc-96ef-1f83d37f557e",
   "metadata": {
    "jp-MarkdownHeadingCollapsed": true,
    "tags": []
   },
   "source": [
    "# Plots"
   ]
  },
  {
   "cell_type": "code",
   "execution_count": null,
   "id": "d76fdc14-99d4-4366-b9a0-43a2fa7ee377",
   "metadata": {},
   "outputs": [],
   "source": [
    "note_all_result_df = pd.read_csv(\"ms_cohort.csv\")"
   ]
  },
  {
   "cell_type": "code",
   "execution_count": null,
   "id": "811e3249-3c00-4e3d-9a14-474009cd9f58",
   "metadata": {},
   "outputs": [],
   "source": [
    "# Create the label column\n",
    "def create_labels(x):\n",
    "    if 1 <= x < 3:\n",
    "        return '1-3'\n",
    "    elif 3 <= x < 5:\n",
    "        return '3-5'\n",
    "    elif x >= 5:\n",
    "        return '5+'\n",
    "    else:\n",
    "        return 'Other'  # For values < 1\n",
    "\n",
    "# Avoid the SettingWithCopyWarning\n",
    "ms_notes = note_all_result_df.copy()\n",
    "ms_notes['label'] = ms_notes['preex_years'].apply(create_labels)"
   ]
  },
  {
   "cell_type": "code",
   "execution_count": null,
   "id": "b2d54198-b292-446b-bf9d-74bdb01ae860",
   "metadata": {},
   "outputs": [],
   "source": [
    "plt.figure(figsize=(10, 6))\n",
    "bins = np.arange(0, 40.5, 0.5)\n",
    "\n",
    "groups = ['1-3', '3-5', '5+']\n",
    "colors = ['#264653', '#2A9D8F', '#E9C46A']\n",
    "# offset_coef and counter is used to offset the labels on the plot\n",
    "offset_coef = 90\n",
    "counter = 1\n",
    "\n",
    "for group, color in zip(groups, colors):\n",
    "    data = ms_notes[ms_notes['label'] == group]['preex_years']\n",
    "    plt.hist(data, bins=bins, alpha=1, label=f'{group} years', color=color, \n",
    "             histtype='bar', rwidth=0.8)\n",
    "    \n",
    "    count = len(data)\n",
    "    plt.text(data.mean()+0.5, plt.gca().get_ylim()[1]+offset_coef-(offset_coef*counter), \n",
    "             f'[{group})\\nn={count}', \n",
    "             ha='center', \n",
    "             va='bottom')\n",
    "    counter += 1\n",
    "\n",
    "plt.xlabel('Prodromal Years with Notes')\n",
    "plt.ylabel('Frequency')\n",
    "plt.title(f'Distribution of Prodromal Period by Group ({len(ms_notes)})')\n",
    "plt.legend()\n",
    "plt.tight_layout()\n",
    "plt.show()\n"
   ]
  }
 ],
 "metadata": {
  "kernelspec": {
   "display_name": "omop-query",
   "language": "python",
   "name": "omop-query"
  },
  "language_info": {
   "codemirror_mode": {
    "name": "ipython",
    "version": 3
   },
   "file_extension": ".py",
   "mimetype": "text/x-python",
   "name": "python",
   "nbconvert_exporter": "python",
   "pygments_lexer": "ipython3",
   "version": "3.13.1"
  }
 },
 "nbformat": 4,
 "nbformat_minor": 5
}
