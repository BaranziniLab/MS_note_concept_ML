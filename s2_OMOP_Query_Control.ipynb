{
 "cells": [
  {
   "cell_type": "markdown",
   "id": "7cd7b559-99fc-4a95-a34e-bd3b46b6ce39",
   "metadata": {},
   "source": [
    "# Obtaining Control Patients and All Note Encounters"
   ]
  },
  {
   "cell_type": "code",
   "execution_count": null,
   "id": "c128ea21-5c7b-456f-8a65-ac111fe87ea4",
   "metadata": {},
   "outputs": [],
   "source": [
    "import duckdb\n",
    "import pandas as pd\n",
    "import numpy as np\n",
    "import json\n",
    "\n",
    "import ipywidgets as widgets\n",
    "from IPython.display import display, Markdown\n",
    "\n",
    "# timeoutput\n",
    "import datetime\n",
    "\n",
    "# regex\n",
    "import re\n",
    "\n",
    "# plots\n",
    "import matplotlib.pyplot as plt"
   ]
  },
  {
   "cell_type": "code",
   "execution_count": null,
   "id": "4dae73cd-37c5-47a9-a7ca-ae6216518ee0",
   "metadata": {},
   "outputs": [],
   "source": [
    "#! change the base_path to the IC data location in Wynton\n",
    "\n",
    "\n",
    "# Functions for easy pulling of CDW data\n",
    "\n",
    "def file_path_parquet(filename, datatype):\n",
    "    base_path = f\"path/to/ic/data/{datatype}/\"\n",
    "    parquet_wild = \"/*.parquet\"\n",
    "    return f\"{base_path}{filename}{parquet_wild}\"\n",
    "\n",
    "def rtime():\n",
    "    # Get the current datetime\n",
    "    current_datetime = datetime.datetime.now()\n",
    "    # Define a mapping of days of the week to colors\n",
    "    day_color_mapping = {\n",
    "        0: 'red',       # Monday\n",
    "        1: 'orange',    # Tuesday\n",
    "        2: 'green',     # Wednesday\n",
    "        3: 'blue',      # Thursday\n",
    "        4: 'purple',    # Friday\n",
    "        5: 'brown',     # Saturday\n",
    "        6: 'gray',      # Sunday\n",
    "    }\n",
    "\n",
    "    # Get the day of the week (0=Monday, 1=Tuesday, ..., 6=Sunday)\n",
    "    day_of_week = current_datetime.weekday()\n",
    "    # Get the color based on the day of the week\n",
    "    text_color = day_color_mapping.get(day_of_week, 'black')  # Default to black if the day is not found in the mapping\n",
    "    # Format the current datetime\n",
    "    formatted_datetime = current_datetime.strftime(\"%Y-%m-%d %H:%M:%S\")\n",
    "    # Generate the formatted output with the corresponding color\n",
    "    formatted_output = f\"\\n<b><span style='color:{text_color}'>Ran: {formatted_datetime}</span></b>\\n\"\n",
    "    # Display the formatted output using Markdown\n",
    "    display(Markdown(formatted_output))\n",
    "    \n",
    "rtime()"
   ]
  },
  {
   "cell_type": "code",
   "execution_count": null,
   "id": "c54f108a-f166-4f8f-b13c-87a9ae47a192",
   "metadata": {},
   "outputs": [],
   "source": [
    "#! change the path to scratch and the username\n",
    "\n",
    "\n",
    "# wynton_username with your actual Wynton username\n",
    "username = 'name'\n",
    "\n",
    "# Spill data that doesn't fit into memory into Wynton Scratch storage (BeeGFS)\n",
    "# Increase up to 12 threads and 150 GB of memory to not overwhelm the system\n",
    "# Recommendation: ~12 GB of memory for each thread\n",
    "# reduce if there are other system limitations in place\n",
    "config_query = f\"\"\"\n",
    "    SET temp_directory = 'path/to/scratch/{username}/duckdb_dir';\n",
    "    SET preserve_insertion_order = false;\n",
    "    SET memory_limit = '150GB';\n",
    "    SET threads TO 12;\n",
    "\"\"\"\n",
    "\n",
    "# Create a connection with configurations\n",
    "con = duckdb.connect()\n",
    "con_info = con.execute(config_query)  # Apply configuration settings\n",
    "\n",
    "display(con_info)\n",
    "rtime()"
   ]
  },
  {
   "cell_type": "markdown",
   "id": "e9dc85dd-3c3f-460e-af5f-1c8749f4af56",
   "metadata": {
    "jp-MarkdownHeadingCollapsed": true,
    "tags": []
   },
   "source": [
    "# Data"
   ]
  },
  {
   "cell_type": "code",
   "execution_count": null,
   "id": "aa740844-379b-4f64-9653-eea3f6d01f68",
   "metadata": {},
   "outputs": [],
   "source": [
    "# get the concepts for MS\n",
    "ms_list = [374919, 4178929, 4145049, 4137855, 37110514]\n",
    "\n",
    "bad_pats = ['-1', '*Unspecified']\n",
    "\n",
    "ms_pats = pd.read_csv(\"ms_cohort.csv\")\n",
    "\n",
    "rtime()"
   ]
  },
  {
   "cell_type": "markdown",
   "id": "3be388ed-7c40-444a-ac9d-192e756cd260",
   "metadata": {},
   "source": [
    "### OMOP Data"
   ]
  },
  {
   "cell_type": "code",
   "execution_count": null,
   "id": "9abf2669-2b31-443f-85fd-81fd4080316e",
   "metadata": {},
   "outputs": [],
   "source": [
    "# condition_occurrence\n",
    "condition_occurrence_ucsf = con.read_parquet(file_path_parquet('condition_occurrence', 'DEID_OMOP'))\n",
    "\n",
    "# person demographics\n",
    "person_ucsf = con.read_parquet(file_path_parquet('person', 'DEID_OMOP'))\n",
    "\n",
    "# person linkage OMOP - CDW\n",
    "person_extension_ucsf = con.read_parquet(file_path_parquet('person_extension', 'DEID_OMOP'))\n",
    "\n",
    "# visit_occurrence\n",
    "visit_occurrence_ucsf = con.read_parquet(file_path_parquet('visit_occurrence', 'DEID_OMOP'))\n",
    "\n",
    "# condition occurrence to link to CDW\n",
    "condition_occurrence_extension_ucsf = con.read_parquet(file_path_parquet('condition_occurrence_extension', 'DEID_OMOP'))\n",
    "\n",
    "\n",
    "rtime()"
   ]
  },
  {
   "cell_type": "markdown",
   "id": "94cf2697-ce3f-4f42-b370-587362756fd2",
   "metadata": {},
   "source": [
    "### CDW Data"
   ]
  },
  {
   "cell_type": "code",
   "execution_count": null,
   "id": "90c7418e-0e45-495e-8d96-332d35beafbd",
   "metadata": {},
   "outputs": [],
   "source": [
    "# deid_note_key and negation terms\n",
    "note_concepts = con.read_parquet(file_path_parquet('note_concepts', 'DEID_CDW'))\n",
    "\n",
    "# linker to patientdurablekey, encoutnerkey, and deid_note_key\n",
    "note_metadata = con.read_parquet(file_path_parquet('note_metadata', 'DEID_CDW'))\n",
    "\n",
    "# note text - only deid_note_key and note_text\n",
    "note_text = con.read_parquet(file_path_parquet('note_text', 'DEID_CDW'))\n",
    "\n",
    "# diagnosis event fact\n",
    "diag_fact = con.read_parquet(file_path_parquet('diagnosiseventfact', 'DEID_CDW'))\n",
    "\n",
    "# patdurabledim\n",
    "patdurabledim = con.read_parquet(file_path_parquet('patdurabledim', 'DEID_CDW'))\n",
    "\n",
    "\n",
    "rtime()"
   ]
  },
  {
   "cell_type": "code",
   "execution_count": null,
   "id": "e92cb0bf-873f-424b-a41c-28b5caf1e9a3",
   "metadata": {},
   "outputs": [],
   "source": [
    "# Query for a specific patient\n",
    "specific_query = \"\"\"\n",
    "SELECT person_id,\n",
    "    source_key_value\n",
    "FROM person_extension_ucsf\n",
    "WHERE person_id = 'KEY'\n",
    "\"\"\"\n",
    "con.query(specific_query)"
   ]
  },
  {
   "cell_type": "markdown",
   "id": "07b7aa2a-bf30-47d7-8719-ca6382d240f3",
   "metadata": {
    "jp-MarkdownHeadingCollapsed": true,
    "tags": []
   },
   "source": [
    "# Cohort"
   ]
  },
  {
   "cell_type": "markdown",
   "id": "681a3ac6-5ee8-481c-b69f-273811a33a93",
   "metadata": {},
   "source": [
    "### OMOP <-> CDW: patient table"
   ]
  },
  {
   "cell_type": "code",
   "execution_count": null,
   "id": "94a55d62-e94f-44b3-af29-3c6faa1ec414",
   "metadata": {},
   "outputs": [],
   "source": [
    "# Convert pandas Series to list\n",
    "ms_pats_list = ms_pats['person_id'].tolist()\n",
    "\n",
    "# drop the existing table if exists\n",
    "con.query(\"DROP TABLE IF EXISTS inv_patient_table\")\n",
    "\n",
    "# create the table\n",
    "query_create_table = f\"\"\"\n",
    "CREATE TABLE inv_patient_table AS\n",
    "    SELECT\n",
    "        co.person_id,\n",
    "        p.person_source_value AS patientepicid,\n",
    "        pd.patientdurablekey\n",
    "    FROM condition_occurrence_ucsf co\n",
    "    JOIN person_ucsf p\n",
    "        ON co.person_id = p.person_id\n",
    "    JOIN patdurabledim pd\n",
    "        ON p.person_source_value = pd.patientepicid\n",
    "    WHERE p.person_source_value NOT IN {tuple(bad_pats)}\n",
    "        AND co.condition_concept_id NOT IN {tuple(ms_list)}\n",
    "        AND co.person_id NOT IN {tuple(ms_pats_list)}\n",
    "    GROUP BY co.person_id, p.person_source_value, pd.patientdurablekey\n",
    "    HAVING COUNT(DISTINCT co.visit_occurrence_id) >= 5\n",
    "\"\"\"\n",
    "\n",
    "con.query(query_create_table)\n",
    "\n",
    "# index the new table\n",
    "con.query(\"CREATE INDEX inv_person_id ON inv_patient_table(person_id)\")\n",
    "con.query(\"CREATE INDEX inv_patientepicid ON inv_patient_table(patientepicid)\")\n",
    "con.query(\"CREATE INDEX inv_patientdurablekey ON inv_patient_table(patientdurablekey)\")\n",
    "\n",
    "rtime()"
   ]
  },
  {
   "cell_type": "code",
   "execution_count": null,
   "id": "bc748c3a-8508-40c4-9ce1-28c4ba1c6c41",
   "metadata": {},
   "outputs": [],
   "source": [
    "# count the number of patients\n",
    "con.query(\"SELECT COUNT(DISTINCT(person_id)) FROM inv_patient_table\")"
   ]
  },
  {
   "cell_type": "markdown",
   "id": "ccf41d19-4784-41cf-93f4-2a7c1dafea17",
   "metadata": {},
   "source": [
    "### OMOP <-> CDW: condition and encounter linker"
   ]
  },
  {
   "cell_type": "markdown",
   "id": "9b469447-80c7-48ba-bb65-bf80f5592b6c",
   "metadata": {},
   "source": [
    "A unique identifier for each record in an OMOP domain. For example, condition_occurrence.condition_occurrence_id joins to condition_occurrence_extension.condition_occurrence_id."
   ]
  },
  {
   "cell_type": "code",
   "execution_count": null,
   "id": "e1158e55-d82a-4587-9668-ea4b6db1ffc9",
   "metadata": {},
   "outputs": [],
   "source": [
    "# drop the existing table if exists\n",
    "con.query(\"DROP TABLE IF EXISTS conlink_table\")\n",
    "\n",
    "# create the table\n",
    "query_create_table = f\"\"\"\n",
    "CREATE TABLE conlink_table AS\n",
    "    SELECT\n",
    "        pt.person_id,\n",
    "        pt.patientepicid,\n",
    "        co.condition_occurrence_id,\n",
    "        co.condition_concept_id,\n",
    "        exco.diagnosiseventkey\n",
    "    FROM condition_occurrence_ucsf co\n",
    "    JOIN inv_patient_table pt\n",
    "        ON co.person_id = pt.person_id\n",
    "    JOIN (\n",
    "        SELECT condition_occurrence_id,\n",
    "            source_key_value AS diagnosiseventkey\n",
    "        FROM condition_occurrence_extension_ucsf\n",
    "        WHERE source_table_name = 'DiagnosisEventFact'\n",
    "    ) exco\n",
    "        ON exco.condition_occurrence_id = co.condition_occurrence_id\n",
    "    WHERE co.condition_concept_id NOT IN {tuple(ms_list)}\n",
    "\"\"\"\n",
    "con.query(query_create_table)\n",
    "\n",
    "# index the new table\n",
    "con.query(\"CREATE INDEX idx_diagnosiseventkey ON conlink_table(diagnosiseventkey)\")\n",
    "\n",
    "rtime()"
   ]
  },
  {
   "cell_type": "code",
   "execution_count": null,
   "id": "5a00bf21-add7-4282-9222-dceb543861f1",
   "metadata": {},
   "outputs": [],
   "source": [
    "# look at top 10 hits\n",
    "con.query(\"SELECT * FROM conlink_table LIMIT 10\")"
   ]
  },
  {
   "cell_type": "code",
   "execution_count": null,
   "id": "06ad9d1d-f259-4d5f-8c49-2f232316baef",
   "metadata": {
    "tags": []
   },
   "outputs": [],
   "source": [
    "# count of patients\n",
    "con.query(\"SELECT COUNT(DISTINCT(person_id)) FROM conlink_table\")"
   ]
  },
  {
   "cell_type": "markdown",
   "id": "be28f469-87ec-475d-b3bc-640d4a07120e",
   "metadata": {},
   "source": [
    "### CDW: patient encounters"
   ]
  },
  {
   "cell_type": "code",
   "execution_count": null,
   "id": "24d5aabf-4f81-4795-b25f-83a9bc7b5025",
   "metadata": {},
   "outputs": [],
   "source": [
    "# drop the existing table if exists\n",
    "con.query(\"DROP TABLE IF EXISTS inv_enc_table\")\n",
    "\n",
    "# create the table\n",
    "query_enc_table = f\"\"\"\n",
    "CREATE TABLE inv_enc_table AS\n",
    "    SELECT \n",
    "        co.person_id,\n",
    "        co.patientepicid,\n",
    "        enc.patientdurablekey,\n",
    "        co.condition_occurrence_id,\n",
    "        enc.encounterkey,\n",
    "        enc.startdatekeyvalue,\n",
    "        enc.diagnosisname\n",
    "    FROM conlink_table co\n",
    "    JOIN (\n",
    "        SELECT\n",
    "            pt.patientdurablekey,\n",
    "            df.diagnosiseventkey,\n",
    "            df.diagnosisname,\n",
    "            df.encounterkey,\n",
    "            df.startdatekeyvalue\n",
    "        FROM diag_fact df\n",
    "        JOIN inv_patient_table pt\n",
    "            ON pt.patientdurablekey = df.patientdurablekey\n",
    "    ) AS enc\n",
    "        ON co.diagnosiseventkey = enc.diagnosiseventkey\n",
    "\"\"\"\n",
    "con.query(query_enc_table)\n",
    "\n",
    "# index the new table\n",
    "con.query(\"CREATE INDEX inv_person_id_2 ON inv_enc_table(person_id)\")\n",
    "con.query(\"CREATE INDEX inv_patientepicid_2 ON inv_enc_table(patientepicid)\")\n",
    "con.query(\"CREATE INDEX inv_patientdurablekey_2 ON inv_enc_table(patientdurablekey)\")\n",
    "con.query(\"CREATE INDEX inv_encounterkey_2 ON inv_enc_table(encounterkey)\")\n",
    "\n",
    "rtime()"
   ]
  },
  {
   "cell_type": "markdown",
   "id": "a21878ad-8a2c-481f-bc2d-7b3aebf887ef",
   "metadata": {},
   "source": [
    "### Merge with all notes to get counts and statistics for these"
   ]
  },
  {
   "cell_type": "code",
   "execution_count": null,
   "id": "876ce4ed-c910-4596-902e-9d578934265d",
   "metadata": {},
   "outputs": [],
   "source": [
    "\n",
    "query_con_note_dates = f\"\"\"\n",
    "WITH note_dates AS (\n",
    "    SELECT pt.patientepicid,\n",
    "        MIN(note.deid_service_date) AS note_fdate,\n",
    "        MAX(note.deid_service_date) AS note_ldate,\n",
    "        CAST(DATEDIFF('day', note_fdate, note_ldate) / 365.25 AS FLOAT) AS note_years,\n",
    "        COUNT(DISTINCT(note.deid_note_key)) AS note_count\n",
    "    FROM note_metadata note\n",
    "    JOIN inv_patient_table pt ON pt.patientepicid = note.patientepicid\n",
    "    WHERE note.deid_service_date >= DATE '1930-01-01'\n",
    "        AND note.deid_service_date <= DATE '2027-01-01'\n",
    "    GROUP BY pt.patientepicid\n",
    ")\n",
    "SELECT enc.*,\n",
    "    note.note_fdate,\n",
    "    note.note_ldate,\n",
    "    note.note_years,\n",
    "    note.note_count,\n",
    "FROM note_dates note\n",
    "JOIN inv_enc_table enc\n",
    "ON note.patientepicid = enc.patientepicid\n",
    "\"\"\"\n",
    "note_all_result = con.query(query_con_note_dates)"
   ]
  },
  {
   "cell_type": "code",
   "execution_count": null,
   "id": "78cb21d6-0ca2-4bdd-ba93-3097a24dda68",
   "metadata": {},
   "outputs": [],
   "source": [
    "# takes a long time when actually called\n",
    "parquet_query = \"\"\"\n",
    "SELECT *\n",
    "FROM note_all_result\n",
    "\"\"\"\n",
    "\n",
    "con.execute(f\"COPY ({parquet_query}) TO 'control_cohort.parquet' (FORMAT PARQUET)\")"
   ]
  },
  {
   "cell_type": "markdown",
   "id": "6ce1cfe1-97e9-4a74-b94d-24d6015ecc01",
   "metadata": {},
   "source": [
    "### Duplicates\n",
    "\n",
    "It seems some patients have duplications across OMOP and CDW. You will need to remove these patients"
   ]
  },
  {
   "cell_type": "code",
   "execution_count": null,
   "id": "bc96bcf1-ce9b-44a7-b1ff-161c47c58257",
   "metadata": {},
   "outputs": [],
   "source": [
    "# get just the patients\n",
    "con_pats = con.read_parquet(\"control_cohort.parquet\")"
   ]
  },
  {
   "cell_type": "code",
   "execution_count": null,
   "id": "31708158-319b-4c85-a496-fc9250e7e37d",
   "metadata": {},
   "outputs": [],
   "source": [
    "query_just_pats = f\"\"\"\n",
    "SELECT DISTINCT\n",
    "    person_id,\n",
    "    patientepicid,\n",
    "    patientdurablekey,\n",
    "    note_fdate,\n",
    "    note_ldate,\n",
    "    note_years,\n",
    "    note_count\n",
    "FROM con_pats\n",
    "\"\"\"\n",
    "\n",
    "con_pats_df = con.query(query_just_pats).df()"
   ]
  },
  {
   "cell_type": "code",
   "execution_count": null,
   "id": "2100fba4-d59f-4667-9db2-9e326de833a1",
   "metadata": {},
   "outputs": [],
   "source": [
    "df = con.query(\"SELECT * FROM con_pats\").df()"
   ]
  },
  {
   "cell_type": "code",
   "execution_count": null,
   "id": "3cc4cc53-6e98-4eca-8000-464b87f8fe76",
   "metadata": {},
   "outputs": [],
   "source": [
    "# Show duplicate values and their counts\n",
    "print(\"Duplicates in column1:\")\n",
    "print(con_pats_df['person_id'].value_counts()[con_pats_df['person_id'].value_counts() > 1])\n",
    "\n",
    "print(\"\\nDuplicates in column2:\")\n",
    "print(con_pats_df['patientdurablekey'].value_counts()[con_pats_df['patientdurablekey'].value_counts() > 1])"
   ]
  },
  {
   "cell_type": "code",
   "execution_count": null,
   "id": "ac4a62d9-2903-453b-931e-9f73e8c7209b",
   "metadata": {},
   "outputs": [],
   "source": [
    "def remove_dupes(df, columns):\n",
    "    mask = pd.Series(True, index=df.index)\n",
    "    dupes_info = {}\n",
    "    \n",
    "    for col in columns:\n",
    "        # Find duplicates only in remaining rows\n",
    "        dup_mask = df[mask][col].duplicated(keep=False)\n",
    "        dupes = df[mask][dup_mask][col].unique()\n",
    "        if len(dupes) > 0:\n",
    "            dupes_info[col] = df[mask][dup_mask][col].unique() \n",
    "            mask &= ~df[col].isin(dupes_info[col])\n",
    "    \n",
    "    return df[mask], dupes_info\n",
    "\n",
    "\n",
    "con_pats_df_ndup, dupes = remove_dupes(con_pats_df, ['person_id', 'patientepicid', 'patientdurablekey'])"
   ]
  },
  {
   "cell_type": "code",
   "execution_count": null,
   "id": "00dde903-aae0-4be7-be35-5cb8fd05e6ab",
   "metadata": {},
   "outputs": [],
   "source": [
    "# check the lengths are the same now\n",
    "len(set(df_pat_ndup['person_id'])) == len(set(df_pat_ndup['patientepicid'])) == len(set(df_pat_ndup['patientdurablekey']))"
   ]
  },
  {
   "cell_type": "markdown",
   "id": "7a6ea598-eed6-4db4-9a9f-e4328f6cb3ac",
   "metadata": {},
   "source": [
    "**Fix the encounter table to reflect these patients**"
   ]
  },
  {
   "cell_type": "code",
   "execution_count": null,
   "id": "d1461bca-ff0c-4e2b-9b1c-66d821061410",
   "metadata": {},
   "outputs": [],
   "source": [
    "query_out_dupes = f\"\"\"\n",
    "SELECT *\n",
    "FROM con_pats\n",
    "WHERE person_id NOT IN {tuple(dupes['person_id'].tolist())}\n",
    "    AND patientdurablekey NOT IN {tuple(dupes['patientdurablekey'].tolist())}\n",
    "\"\"\"\n",
    "\n",
    "con_pats_ndup = con.query(query_out_dupes)"
   ]
  },
  {
   "cell_type": "code",
   "execution_count": null,
   "id": "1573cd62-251f-4455-9e78-2418ab29232c",
   "metadata": {},
   "outputs": [],
   "source": [
    "# runs the filtering script\n",
    "parquet_query = \"\"\"\n",
    "SELECT *\n",
    "FROM con_pats_ndup\n",
    "\"\"\"\n",
    "\n",
    "con.execute(f\"COPY ({parquet_query}) TO 'control_cohort_new.parquet' (FORMAT PARQUET)\")"
   ]
  },
  {
   "cell_type": "markdown",
   "id": "8074ab27-3f9b-4e15-9e68-8df2c51067bf",
   "metadata": {
    "jp-MarkdownHeadingCollapsed": true,
    "tags": []
   },
   "source": [
    "# Analyze Control Population - Optional"
   ]
  },
  {
   "cell_type": "code",
   "execution_count": null,
   "id": "6eaddead-7ae4-4e8a-ae17-e62f586b8730",
   "metadata": {},
   "outputs": [],
   "source": [
    "con_pats = con.read_parquet(\"control_cohort_new.parquet\")"
   ]
  },
  {
   "cell_type": "code",
   "execution_count": null,
   "id": "e59916aa-17ff-479f-a72f-45927b144b33",
   "metadata": {},
   "outputs": [],
   "source": [
    "# number of patients\n",
    "len(set(con_pats.select('person_id').df()['person_id']))"
   ]
  },
  {
   "cell_type": "code",
   "execution_count": null,
   "id": "331299fd-eb28-46f0-806e-119b3eb5cef2",
   "metadata": {},
   "outputs": [],
   "source": [
    "# number of notes\n",
    "con.query(\"SELECT COUNT(*) FROM con_pats\")"
   ]
  },
  {
   "cell_type": "code",
   "execution_count": null,
   "id": "5310c513-d0bd-4225-8659-ce361f35a20b",
   "metadata": {},
   "outputs": [],
   "source": [
    "# view the top N columns of the notes data\n",
    "con.query(\"SELECT * FROM con_pats ORDER BY person_id, startdatekeyvalue LIMIT 20\").df()"
   ]
  },
  {
   "cell_type": "code",
   "execution_count": null,
   "id": "5aaffce8-fb20-4c7e-9073-107bb321d4d9",
   "metadata": {},
   "outputs": [],
   "source": [
    "# obtain a simplified dataframe for further analysis\n",
    "query_just_pats = f\"\"\"\n",
    "SELECT DISTINCT\n",
    "    person_id,\n",
    "    patientepicid,\n",
    "    patientdurablekey,\n",
    "    note_fdate,\n",
    "    note_ldate,\n",
    "    note_years,\n",
    "    note_count\n",
    "FROM con_pats\n",
    "\"\"\"\n",
    "\n",
    "con_pats_simp = con.query(query_just_pats).df()\n",
    "con_pats_simp.shape"
   ]
  },
  {
   "cell_type": "markdown",
   "id": "fed13d01-baff-4c92-8966-809dbfd3944d",
   "metadata": {},
   "source": [
    "Further analysis is optional now the data is loaded"
   ]
  },
  {
   "cell_type": "code",
   "execution_count": null,
   "id": "8beb0abc-0489-498e-a86b-45020532e8ee",
   "metadata": {},
   "outputs": [],
   "source": []
  }
 ],
 "metadata": {
  "kernelspec": {
   "display_name": "omop-query",
   "language": "python",
   "name": "omop-query"
  },
  "language_info": {
   "codemirror_mode": {
    "name": "ipython",
    "version": 3
   },
   "file_extension": ".py",
   "mimetype": "text/x-python",
   "name": "python",
   "nbconvert_exporter": "python",
   "pygments_lexer": "ipython3",
   "version": "3.13.1"
  }
 },
 "nbformat": 4,
 "nbformat_minor": 5
}
